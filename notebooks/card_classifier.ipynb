{
 "cells": [
  {
   "cell_type": "markdown",
   "id": "a0a2ad47-c033-4cb6-b626-1927c8f74a88",
   "metadata": {},
   "source": [
    "# Card Classifier"
   ]
  },
  {
   "cell_type": "markdown",
   "id": "ade17d24-ab84-4382-bc30-9e010fb52fd9",
   "metadata": {},
   "source": [
    "---"
   ]
  },
  {
   "cell_type": "markdown",
   "id": "b3fbaa6d-f5fa-4b98-bebe-8eb9561240ee",
   "metadata": {},
   "source": [
    "#### 1. Preparing the data"
   ]
  },
  {
   "cell_type": "code",
   "execution_count": 2,
   "id": "d581c8c6-b3da-4e39-9f3f-1ab94a814588",
   "metadata": {},
   "outputs": [],
   "source": [
    "import torch\n",
    "import torch.nn as nn\n",
    "import torch.optim as optim\n",
    "from torch.utils.data import Dataset, DataLoader\n",
    "\n",
    "import torchvision\n",
    "import torchvision.transforms as transforms\n",
    "from torchvision.datasets import ImageFolder\n",
    "import timm\n",
    "\n",
    "import matplotlib.pylab as plt\n",
    "import pandas as pd\n",
    "import numpy as np\n",
    "import sys"
   ]
  },
  {
   "cell_type": "code",
   "execution_count": 3,
   "id": "56467ba0-18aa-45d1-900f-11d7e6ba4478",
   "metadata": {},
   "outputs": [
    {
     "name": "stdout",
     "output_type": "stream",
     "text": [
      "System: 3.13.5 | packaged by Anaconda, Inc. | (main, Jun 12 2025, 11:23:37) [Clang 14.0.6 ]\n",
      "PyTorch: 2.7.1\n",
      "Torchvision: 0.22.1\n",
      "Numpy: 2.3.1\n",
      "Pandas: 2.2.3\n"
     ]
    }
   ],
   "source": [
    "print('System:', sys.version)\n",
    "print('PyTorch:', torch.__version__)\n",
    "print('Torchvision:', torchvision.__version__)\n",
    "print('Numpy:', np.__version__)\n",
    "print('Pandas:', pd.__version__)"
   ]
  },
  {
   "cell_type": "code",
   "execution_count": 12,
   "id": "6abfe60f-5786-43ce-86c7-28aa4cb04f26",
   "metadata": {},
   "outputs": [],
   "source": [
    "class CardDataset(Dataset):\n",
    "    def __init__(self, data_dir, transform=None):\n",
    "        self.data = ImageFolder(data_dir, transform=transform)\n",
    "        \n",
    "    def __len__(self):\n",
    "        return len(self.data)\n",
    "        \n",
    "    def __getitem__(self, idx):\n",
    "        return self.data[idx]\n",
    "\n",
    "    @property\n",
    "    def classes(self):\n",
    "        return self.data.classes"
   ]
  },
  {
   "cell_type": "code",
   "execution_count": 13,
   "id": "bbaeae92-6695-4f37-b8ce-6357d9612910",
   "metadata": {},
   "outputs": [],
   "source": [
    "data_dir = '../data/train'"
   ]
  },
  {
   "cell_type": "code",
   "execution_count": 14,
   "id": "f165b961-71a2-4da5-b5bc-f09c05c3215f",
   "metadata": {},
   "outputs": [],
   "source": [
    "transform = transforms.Compose([\n",
    "    transforms.Resize((128, 128)),\n",
    "    transforms.ToTensor()\n",
    "])"
   ]
  },
  {
   "cell_type": "code",
   "execution_count": 40,
   "id": "f97d6fd1-0210-4a9f-a18c-bfc3dab2806f",
   "metadata": {},
   "outputs": [],
   "source": [
    "dataset = CardDataset(data_dir, transform)"
   ]
  },
  {
   "cell_type": "code",
   "execution_count": 41,
   "id": "689f3dba-650d-413c-9754-fcf4c7b5a06d",
   "metadata": {},
   "outputs": [
    {
     "data": {
      "text/plain": [
       "7624"
      ]
     },
     "execution_count": 41,
     "metadata": {},
     "output_type": "execute_result"
    }
   ],
   "source": [
    "len(dataset)"
   ]
  },
  {
   "cell_type": "code",
   "execution_count": 42,
   "id": "b00f4b82-3480-4242-880f-b2f2812e7e66",
   "metadata": {},
   "outputs": [],
   "source": [
    "img, lbl = dataset[1000]"
   ]
  },
  {
   "cell_type": "code",
   "execution_count": 47,
   "id": "2359a9b8-8f7f-4447-a346-dcb159607c7e",
   "metadata": {},
   "outputs": [
    {
     "data": {
      "text/plain": [
       "(torch.Size([3, 128, 128]), 6)"
      ]
     },
     "execution_count": 47,
     "metadata": {},
     "output_type": "execute_result"
    }
   ],
   "source": [
    "img.shape, lbl"
   ]
  },
  {
   "cell_type": "code",
   "execution_count": 48,
   "id": "6507cc3f-a57c-4b7b-8a80-25fcbd87b8fd",
   "metadata": {},
   "outputs": [],
   "source": [
    "data_dir = '../data/train'\n",
    "target_to_class = {v: k for k, v in ImageFolder(data_dir).class_to_idx.items()}\n",
    "#print(target_to_class)"
   ]
  },
  {
   "cell_type": "code",
   "execution_count": 49,
   "id": "97952451-9067-46a1-a890-05578bad95c0",
   "metadata": {},
   "outputs": [],
   "source": [
    "dataloader = DataLoader(dataset, batch_size=34, shuffle=True)"
   ]
  },
  {
   "cell_type": "code",
   "execution_count": 53,
   "id": "4c6c856f-8c31-44cb-b402-8cc4d872545a",
   "metadata": {},
   "outputs": [],
   "source": [
    "for img, lbl in dataloader:\n",
    "    break"
   ]
  },
  {
   "cell_type": "code",
   "execution_count": 55,
   "id": "f1cc4f6f-5e10-45f0-a890-a71ddd9d0525",
   "metadata": {},
   "outputs": [
    {
     "data": {
      "text/plain": [
       "torch.Size([34, 3, 128, 128])"
      ]
     },
     "execution_count": 55,
     "metadata": {},
     "output_type": "execute_result"
    }
   ],
   "source": [
    "img.shape"
   ]
  },
  {
   "cell_type": "code",
   "execution_count": 54,
   "id": "db64df65-e160-4b45-9523-34229bdfb8b0",
   "metadata": {},
   "outputs": [
    {
     "data": {
      "text/plain": [
       "tensor([23, 22,  8,  8, 10, 30, 41, 10, 26,  6,  6, 37, 10,  2, 16, 36, 14, 18,\n",
       "        38, 45,  9, 50, 24,  9, 48, 16, 50, 41, 18, 18,  7, 27, 41,  6])"
      ]
     },
     "execution_count": 54,
     "metadata": {},
     "output_type": "execute_result"
    }
   ],
   "source": [
    "lbl"
   ]
  },
  {
   "cell_type": "markdown",
   "id": "fbcfaeb7-7591-4e36-b81d-f3b7aff95cd3",
   "metadata": {},
   "source": [
    "---"
   ]
  },
  {
   "cell_type": "markdown",
   "id": "72257540-8272-496f-bd12-fe6ed2458acd",
   "metadata": {},
   "source": [
    "#### 2. Creating the model"
   ]
  },
  {
   "cell_type": "code",
   "execution_count": null,
   "id": "24c4e6ca-4eed-46b7-ba2c-7f0145c4948c",
   "metadata": {},
   "outputs": [],
   "source": []
  }
 ],
 "metadata": {
  "kernelspec": {
   "display_name": "Python [conda env:pytorch]",
   "language": "python",
   "name": "conda-env-pytorch-py"
  },
  "language_info": {
   "codemirror_mode": {
    "name": "ipython",
    "version": 3
   },
   "file_extension": ".py",
   "mimetype": "text/x-python",
   "name": "python",
   "nbconvert_exporter": "python",
   "pygments_lexer": "ipython3",
   "version": "3.13.5"
  }
 },
 "nbformat": 4,
 "nbformat_minor": 5
}
