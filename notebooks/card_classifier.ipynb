{
 "cells": [
  {
   "cell_type": "markdown",
   "id": "a0a2ad47-c033-4cb6-b626-1927c8f74a88",
   "metadata": {},
   "source": [
    "# Card Classifier"
   ]
  },
  {
   "cell_type": "markdown",
   "id": "ade17d24-ab84-4382-bc30-9e010fb52fd9",
   "metadata": {},
   "source": [
    "---"
   ]
  },
  {
   "cell_type": "markdown",
   "id": "b3fbaa6d-f5fa-4b98-bebe-8eb9561240ee",
   "metadata": {},
   "source": [
    "#### 1. Preparing the data"
   ]
  },
  {
   "cell_type": "code",
   "execution_count": 16,
   "id": "d581c8c6-b3da-4e39-9f3f-1ab94a814588",
   "metadata": {},
   "outputs": [],
   "source": [
    "import torch\n",
    "import torch.nn as nn\n",
    "import torch.optim as optim\n",
    "from torch.utils.data import Dataset, DataLoader\n",
    "\n",
    "import torchvision\n",
    "import torchvision.transforms as transforms\n",
    "from torchvision.datasets import ImageFolder\n",
    "import timm\n",
    "\n",
    "import matplotlib.pylab as plt\n",
    "import pandas as pd\n",
    "import numpy as np\n",
    "import sys"
   ]
  },
  {
   "cell_type": "code",
   "execution_count": 2,
   "id": "56467ba0-18aa-45d1-900f-11d7e6ba4478",
   "metadata": {},
   "outputs": [
    {
     "name": "stdout",
     "output_type": "stream",
     "text": [
      "System: 3.11.13 | packaged by conda-forge | (main, Jun  4 2025, 14:52:34) [Clang 18.1.8 ]\n",
      "PyTorch: 2.5.1\n",
      "Torchvision: 0.20.1\n",
      "Numpy: 1.26.4\n",
      "Pandas: 2.3.1\n"
     ]
    }
   ],
   "source": [
    "print('System:', sys.version)\n",
    "print('PyTorch:', torch.__version__)\n",
    "print('Torchvision:', torchvision.__version__)\n",
    "print('Numpy:', np.__version__)\n",
    "print('Pandas:', pd.__version__)"
   ]
  },
  {
   "cell_type": "code",
   "execution_count": 3,
   "id": "6abfe60f-5786-43ce-86c7-28aa4cb04f26",
   "metadata": {},
   "outputs": [],
   "source": [
    "class CardDataset(Dataset):\n",
    "    def __init__(self, data_dir, transform=None):\n",
    "        self.data = ImageFolder(data_dir, transform=transform)\n",
    "        \n",
    "    def __len__(self):\n",
    "        return len(self.data)\n",
    "        \n",
    "    def __getitem__(self, idx):\n",
    "        return self.data[idx]\n",
    "\n",
    "    @property\n",
    "    def classes(self):\n",
    "        return self.data.classes"
   ]
  },
  {
   "cell_type": "code",
   "execution_count": 4,
   "id": "bbaeae92-6695-4f37-b8ce-6357d9612910",
   "metadata": {},
   "outputs": [],
   "source": [
    "data_dir = '../data/train'"
   ]
  },
  {
   "cell_type": "code",
   "execution_count": 5,
   "id": "f165b961-71a2-4da5-b5bc-f09c05c3215f",
   "metadata": {},
   "outputs": [],
   "source": [
    "transform = transforms.Compose([\n",
    "    transforms.Resize((128, 128)),\n",
    "    transforms.ToTensor()\n",
    "])"
   ]
  },
  {
   "cell_type": "code",
   "execution_count": 6,
   "id": "f97d6fd1-0210-4a9f-a18c-bfc3dab2806f",
   "metadata": {},
   "outputs": [],
   "source": [
    "dataset = CardDataset(data_dir, transform)"
   ]
  },
  {
   "cell_type": "code",
   "execution_count": 7,
   "id": "689f3dba-650d-413c-9754-fcf4c7b5a06d",
   "metadata": {},
   "outputs": [
    {
     "data": {
      "text/plain": [
       "7624"
      ]
     },
     "execution_count": 7,
     "metadata": {},
     "output_type": "execute_result"
    }
   ],
   "source": [
    "len(dataset)"
   ]
  },
  {
   "cell_type": "code",
   "execution_count": 8,
   "id": "b00f4b82-3480-4242-880f-b2f2812e7e66",
   "metadata": {},
   "outputs": [],
   "source": [
    "img, lbl = dataset[1000]"
   ]
  },
  {
   "cell_type": "code",
   "execution_count": 9,
   "id": "2359a9b8-8f7f-4447-a346-dcb159607c7e",
   "metadata": {},
   "outputs": [
    {
     "data": {
      "text/plain": [
       "(torch.Size([3, 128, 128]), 6)"
      ]
     },
     "execution_count": 9,
     "metadata": {},
     "output_type": "execute_result"
    }
   ],
   "source": [
    "img.shape, lbl"
   ]
  },
  {
   "cell_type": "code",
   "execution_count": 10,
   "id": "6507cc3f-a57c-4b7b-8a80-25fcbd87b8fd",
   "metadata": {},
   "outputs": [],
   "source": [
    "data_dir = '../data/train'\n",
    "target_to_class = {v: k for k, v in ImageFolder(data_dir).class_to_idx.items()}\n",
    "#print(target_to_class)"
   ]
  },
  {
   "cell_type": "code",
   "execution_count": 11,
   "id": "97952451-9067-46a1-a890-05578bad95c0",
   "metadata": {},
   "outputs": [],
   "source": [
    "dataloader = DataLoader(dataset, batch_size=34, shuffle=True)"
   ]
  },
  {
   "cell_type": "code",
   "execution_count": 12,
   "id": "4c6c856f-8c31-44cb-b402-8cc4d872545a",
   "metadata": {},
   "outputs": [],
   "source": [
    "for img, lbl in dataloader:\n",
    "    break"
   ]
  },
  {
   "cell_type": "code",
   "execution_count": 13,
   "id": "f1cc4f6f-5e10-45f0-a890-a71ddd9d0525",
   "metadata": {},
   "outputs": [
    {
     "data": {
      "text/plain": [
       "torch.Size([34, 3, 128, 128])"
      ]
     },
     "execution_count": 13,
     "metadata": {},
     "output_type": "execute_result"
    }
   ],
   "source": [
    "img.shape"
   ]
  },
  {
   "cell_type": "code",
   "execution_count": 15,
   "id": "db64df65-e160-4b45-9523-34229bdfb8b0",
   "metadata": {},
   "outputs": [
    {
     "data": {
      "text/plain": [
       "tensor([27, 17, 24, 52, 43,  7, 32,  6, 33, 36, 10, 28, 19, 42, 12,  2, 29,  5,\n",
       "        27,  5, 34, 19, 52, 46,  8,  6, 16, 20, 13,  0,  9, 19,  3,  5])"
      ]
     },
     "execution_count": 15,
     "metadata": {},
     "output_type": "execute_result"
    }
   ],
   "source": [
    "lbl"
   ]
  },
  {
   "cell_type": "markdown",
   "id": "fbcfaeb7-7591-4e36-b81d-f3b7aff95cd3",
   "metadata": {},
   "source": [
    "---"
   ]
  },
  {
   "cell_type": "markdown",
   "id": "72257540-8272-496f-bd12-fe6ed2458acd",
   "metadata": {},
   "source": [
    "#### 2. Creating the model"
   ]
  },
  {
   "cell_type": "code",
   "execution_count": 26,
   "id": "24c4e6ca-4eed-46b7-ba2c-7f0145c4948c",
   "metadata": {},
   "outputs": [],
   "source": [
    "class CardClassifier(nn.Module):\n",
    "    def __init__(self, num_classes=53):\n",
    "        super(CardClassifier, self).__init__()\n",
    "        self.base_model = timm.create_model('efficientnet_b0', pretrained=True)\n",
    "        self.features = nn.Sequential(*list(self.base_model.children())[:-1])\n",
    "        \n",
    "        enet_out_size = 1280\n",
    "        self.classifier = nn.Linear(enet_out_size, num_classes)\n",
    "\n",
    "    def forward(self, x):\n",
    "        x = self.features(x)\n",
    "        output = self.classifier(x)\n",
    "        return output"
   ]
  },
  {
   "cell_type": "code",
   "execution_count": 27,
   "id": "4d0957ae-f8e8-4571-a7ee-3384fb8181df",
   "metadata": {},
   "outputs": [],
   "source": [
    "model = CardClassifier(num_classes=53)"
   ]
  },
  {
   "cell_type": "code",
   "execution_count": 28,
   "id": "5d7d87fd-e522-4641-b8a3-16dbdca8c426",
   "metadata": {},
   "outputs": [
    {
     "name": "stdout",
     "output_type": "stream",
     "text": [
      "CardClassifier(\n",
      "  (base_model): EfficientNet(\n",
      "    (conv_stem): Conv2d(3, 32, kernel_size=(3, 3), stride=(2, 2), padding=(1, 1), bias=False)\n",
      "    (bn1): BatchNormAct2d(\n",
      "      32, eps=1e-05, momentum=0.1, affine=True, track_running_stats=True\n",
      "      (drop): Identity()\n",
      "      (act): SiLU(inplace=True)\n",
      "    )\n",
      "    (blocks): Sequential(\n",
      "      (0): Sequential(\n",
      "        (0): DepthwiseSeparableConv(\n",
      "          (conv_dw): Conv2d(32, 32, kernel_size=(3, 3), stride=(1, 1), padding=(1, 1), groups=32, bias=False)\n",
      " \n"
     ]
    }
   ],
   "source": [
    "print(str(model)[:500])"
   ]
  },
  {
   "cell_type": "code",
   "execution_count": 32,
   "id": "f5f786c6-85e7-4a9c-b80b-b8aba9437f7e",
   "metadata": {},
   "outputs": [
    {
     "data": {
      "text/plain": [
       "torch.Size([34, 53])"
      ]
     },
     "execution_count": 32,
     "metadata": {},
     "output_type": "execute_result"
    }
   ],
   "source": [
    "eg_out = model(img)\n",
    "eg_out.shape"
   ]
  },
  {
   "cell_type": "markdown",
   "id": "ea280bc6-d554-4da5-bd5c-a74cbf766cd1",
   "metadata": {},
   "source": [
    "---"
   ]
  },
  {
   "cell_type": "markdown",
   "id": "d8770812-de53-4d99-8c7e-4f6383f9d2f8",
   "metadata": {},
   "source": [
    "#### 3. Training the model"
   ]
  },
  {
   "cell_type": "code",
   "execution_count": null,
   "id": "0cac38cd-a029-46bb-a2b8-41c5a0150c0c",
   "metadata": {},
   "outputs": [],
   "source": []
  },
  {
   "cell_type": "code",
   "execution_count": null,
   "id": "5168a170-f440-440d-b54a-7551759365b7",
   "metadata": {},
   "outputs": [],
   "source": []
  },
  {
   "cell_type": "code",
   "execution_count": null,
   "id": "a8d47daf-e410-4d18-b7fc-1906f1550fdd",
   "metadata": {},
   "outputs": [],
   "source": []
  },
  {
   "cell_type": "code",
   "execution_count": null,
   "id": "0aa4ea79-bbcf-454a-a9df-f20faf4fe084",
   "metadata": {},
   "outputs": [],
   "source": []
  },
  {
   "cell_type": "code",
   "execution_count": null,
   "id": "9f8c5476-9cae-4794-93b4-3a21b9693689",
   "metadata": {},
   "outputs": [],
   "source": []
  },
  {
   "cell_type": "code",
   "execution_count": null,
   "id": "a2c4f2ce-790e-4d06-b857-e744f91f3511",
   "metadata": {},
   "outputs": [],
   "source": []
  },
  {
   "cell_type": "code",
   "execution_count": null,
   "id": "be40f616-9c5c-4896-901c-808ba9c219f3",
   "metadata": {},
   "outputs": [],
   "source": []
  },
  {
   "cell_type": "code",
   "execution_count": null,
   "id": "c3db1a44-b311-403a-bd5d-bb128fc54e00",
   "metadata": {},
   "outputs": [],
   "source": []
  }
 ],
 "metadata": {
  "kernelspec": {
   "display_name": "Python [conda env:pytorch_env]",
   "language": "python",
   "name": "conda-env-pytorch_env-py"
  },
  "language_info": {
   "codemirror_mode": {
    "name": "ipython",
    "version": 3
   },
   "file_extension": ".py",
   "mimetype": "text/x-python",
   "name": "python",
   "nbconvert_exporter": "python",
   "pygments_lexer": "ipython3",
   "version": "3.11.13"
  }
 },
 "nbformat": 4,
 "nbformat_minor": 5
}
